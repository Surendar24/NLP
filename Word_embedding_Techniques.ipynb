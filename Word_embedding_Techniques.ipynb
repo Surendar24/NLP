{
  "cells": [
    {
      "cell_type": "markdown",
      "metadata": {
        "id": "eHNf7J680XF-"
      },
      "source": [
        "### Word Embedding Techniques using Embedding Layer in Keras"
      ]
    },
    {
      "cell_type": "code",
      "execution_count": 1,
      "metadata": {
        "id": "PEsK0_yl0XGB"
      },
      "outputs": [],
      "source": [
        "### Libraries USed Tensorflow> 2.0  and keras"
      ]
    },
    {
      "cell_type": "code",
      "execution_count": 2,
      "metadata": {
        "colab": {
          "base_uri": "https://localhost:8080/"
        },
        "id": "pslw1Ya90XGC",
        "outputId": "222c69e6-6fa5-4f38-8c47-51e5eb61f4c7"
      },
      "outputs": [
        {
          "output_type": "stream",
          "name": "stdout",
          "text": [
            "Looking in indexes: https://pypi.org/simple, https://us-python.pkg.dev/colab-wheels/public/simple/\n",
            "Collecting tensorflow-gpu\n",
            "  Downloading tensorflow_gpu-2.11.0-cp38-cp38-manylinux_2_17_x86_64.manylinux2014_x86_64.whl (588.3 MB)\n",
            "\u001b[2K     \u001b[90m━━━━━━━━━━━━━━━━━━━━━━━━━━━━━━━━━━━━━━━\u001b[0m \u001b[32m588.3/588.3 MB\u001b[0m \u001b[31m2.9 MB/s\u001b[0m eta \u001b[36m0:00:00\u001b[0m\n",
            "\u001b[?25hCollecting tensorflow-estimator<2.12,>=2.11.0\n",
            "  Downloading tensorflow_estimator-2.11.0-py2.py3-none-any.whl (439 kB)\n",
            "\u001b[2K     \u001b[90m━━━━━━━━━━━━━━━━━━━━━━━━━━━━━━━━━━━━━━\u001b[0m \u001b[32m439.2/439.2 KB\u001b[0m \u001b[31m49.0 MB/s\u001b[0m eta \u001b[36m0:00:00\u001b[0m\n",
            "\u001b[?25hRequirement already satisfied: tensorflow-io-gcs-filesystem>=0.23.1 in /usr/local/lib/python3.8/dist-packages (from tensorflow-gpu) (0.29.0)\n",
            "Requirement already satisfied: astunparse>=1.6.0 in /usr/local/lib/python3.8/dist-packages (from tensorflow-gpu) (1.6.3)\n",
            "Requirement already satisfied: libclang>=13.0.0 in /usr/local/lib/python3.8/dist-packages (from tensorflow-gpu) (15.0.6.1)\n",
            "Requirement already satisfied: protobuf<3.20,>=3.9.2 in /usr/local/lib/python3.8/dist-packages (from tensorflow-gpu) (3.19.6)\n",
            "Requirement already satisfied: opt-einsum>=2.3.2 in /usr/local/lib/python3.8/dist-packages (from tensorflow-gpu) (3.3.0)\n",
            "Requirement already satisfied: six>=1.12.0 in /usr/local/lib/python3.8/dist-packages (from tensorflow-gpu) (1.15.0)\n",
            "Requirement already satisfied: grpcio<2.0,>=1.24.3 in /usr/local/lib/python3.8/dist-packages (from tensorflow-gpu) (1.51.1)\n",
            "Requirement already satisfied: google-pasta>=0.1.1 in /usr/local/lib/python3.8/dist-packages (from tensorflow-gpu) (0.2.0)\n",
            "Requirement already satisfied: numpy>=1.20 in /usr/local/lib/python3.8/dist-packages (from tensorflow-gpu) (1.21.6)\n",
            "Requirement already satisfied: absl-py>=1.0.0 in /usr/local/lib/python3.8/dist-packages (from tensorflow-gpu) (1.3.0)\n",
            "Requirement already satisfied: typing-extensions>=3.6.6 in /usr/local/lib/python3.8/dist-packages (from tensorflow-gpu) (4.4.0)\n",
            "Collecting keras<2.12,>=2.11.0\n",
            "  Downloading keras-2.11.0-py2.py3-none-any.whl (1.7 MB)\n",
            "\u001b[2K     \u001b[90m━━━━━━━━━━━━━━━━━━━━━━━━━━━━━━━━━━━━━━━━\u001b[0m \u001b[32m1.7/1.7 MB\u001b[0m \u001b[31m94.0 MB/s\u001b[0m eta \u001b[36m0:00:00\u001b[0m\n",
            "\u001b[?25hCollecting flatbuffers>=2.0\n",
            "  Downloading flatbuffers-23.1.4-py2.py3-none-any.whl (26 kB)\n",
            "Requirement already satisfied: h5py>=2.9.0 in /usr/local/lib/python3.8/dist-packages (from tensorflow-gpu) (3.1.0)\n",
            "Requirement already satisfied: wrapt>=1.11.0 in /usr/local/lib/python3.8/dist-packages (from tensorflow-gpu) (1.14.1)\n",
            "Collecting tensorboard<2.12,>=2.11\n",
            "  Downloading tensorboard-2.11.2-py3-none-any.whl (6.0 MB)\n",
            "\u001b[2K     \u001b[90m━━━━━━━━━━━━━━━━━━━━━━━━━━━━━━━━━━━━━━━━\u001b[0m \u001b[32m6.0/6.0 MB\u001b[0m \u001b[31m112.3 MB/s\u001b[0m eta \u001b[36m0:00:00\u001b[0m\n",
            "\u001b[?25hRequirement already satisfied: gast<=0.4.0,>=0.2.1 in /usr/local/lib/python3.8/dist-packages (from tensorflow-gpu) (0.4.0)\n",
            "Requirement already satisfied: termcolor>=1.1.0 in /usr/local/lib/python3.8/dist-packages (from tensorflow-gpu) (2.2.0)\n",
            "Requirement already satisfied: packaging in /usr/local/lib/python3.8/dist-packages (from tensorflow-gpu) (21.3)\n",
            "Requirement already satisfied: setuptools in /usr/local/lib/python3.8/dist-packages (from tensorflow-gpu) (57.4.0)\n",
            "Requirement already satisfied: wheel<1.0,>=0.23.0 in /usr/local/lib/python3.8/dist-packages (from astunparse>=1.6.0->tensorflow-gpu) (0.38.4)\n",
            "Requirement already satisfied: tensorboard-data-server<0.7.0,>=0.6.0 in /usr/local/lib/python3.8/dist-packages (from tensorboard<2.12,>=2.11->tensorflow-gpu) (0.6.1)\n",
            "Requirement already satisfied: google-auth-oauthlib<0.5,>=0.4.1 in /usr/local/lib/python3.8/dist-packages (from tensorboard<2.12,>=2.11->tensorflow-gpu) (0.4.6)\n",
            "Requirement already satisfied: google-auth<3,>=1.6.3 in /usr/local/lib/python3.8/dist-packages (from tensorboard<2.12,>=2.11->tensorflow-gpu) (2.16.0)\n",
            "Requirement already satisfied: tensorboard-plugin-wit>=1.6.0 in /usr/local/lib/python3.8/dist-packages (from tensorboard<2.12,>=2.11->tensorflow-gpu) (1.8.1)\n",
            "Requirement already satisfied: requests<3,>=2.21.0 in /usr/local/lib/python3.8/dist-packages (from tensorboard<2.12,>=2.11->tensorflow-gpu) (2.25.1)\n",
            "Requirement already satisfied: werkzeug>=1.0.1 in /usr/local/lib/python3.8/dist-packages (from tensorboard<2.12,>=2.11->tensorflow-gpu) (1.0.1)\n",
            "Requirement already satisfied: markdown>=2.6.8 in /usr/local/lib/python3.8/dist-packages (from tensorboard<2.12,>=2.11->tensorflow-gpu) (3.4.1)\n",
            "Requirement already satisfied: pyparsing!=3.0.5,>=2.0.2 in /usr/local/lib/python3.8/dist-packages (from packaging->tensorflow-gpu) (3.0.9)\n",
            "Requirement already satisfied: pyasn1-modules>=0.2.1 in /usr/local/lib/python3.8/dist-packages (from google-auth<3,>=1.6.3->tensorboard<2.12,>=2.11->tensorflow-gpu) (0.2.8)\n",
            "Requirement already satisfied: rsa<5,>=3.1.4 in /usr/local/lib/python3.8/dist-packages (from google-auth<3,>=1.6.3->tensorboard<2.12,>=2.11->tensorflow-gpu) (4.9)\n",
            "Requirement already satisfied: cachetools<6.0,>=2.0.0 in /usr/local/lib/python3.8/dist-packages (from google-auth<3,>=1.6.3->tensorboard<2.12,>=2.11->tensorflow-gpu) (5.2.1)\n",
            "Requirement already satisfied: requests-oauthlib>=0.7.0 in /usr/local/lib/python3.8/dist-packages (from google-auth-oauthlib<0.5,>=0.4.1->tensorboard<2.12,>=2.11->tensorflow-gpu) (1.3.1)\n",
            "Requirement already satisfied: importlib-metadata>=4.4 in /usr/local/lib/python3.8/dist-packages (from markdown>=2.6.8->tensorboard<2.12,>=2.11->tensorflow-gpu) (6.0.0)\n",
            "Requirement already satisfied: idna<3,>=2.5 in /usr/local/lib/python3.8/dist-packages (from requests<3,>=2.21.0->tensorboard<2.12,>=2.11->tensorflow-gpu) (2.10)\n",
            "Requirement already satisfied: chardet<5,>=3.0.2 in /usr/local/lib/python3.8/dist-packages (from requests<3,>=2.21.0->tensorboard<2.12,>=2.11->tensorflow-gpu) (4.0.0)\n",
            "Requirement already satisfied: certifi>=2017.4.17 in /usr/local/lib/python3.8/dist-packages (from requests<3,>=2.21.0->tensorboard<2.12,>=2.11->tensorflow-gpu) (2022.12.7)\n",
            "Requirement already satisfied: urllib3<1.27,>=1.21.1 in /usr/local/lib/python3.8/dist-packages (from requests<3,>=2.21.0->tensorboard<2.12,>=2.11->tensorflow-gpu) (1.24.3)\n",
            "Requirement already satisfied: zipp>=0.5 in /usr/local/lib/python3.8/dist-packages (from importlib-metadata>=4.4->markdown>=2.6.8->tensorboard<2.12,>=2.11->tensorflow-gpu) (3.11.0)\n",
            "Requirement already satisfied: pyasn1<0.5.0,>=0.4.6 in /usr/local/lib/python3.8/dist-packages (from pyasn1-modules>=0.2.1->google-auth<3,>=1.6.3->tensorboard<2.12,>=2.11->tensorflow-gpu) (0.4.8)\n",
            "Requirement already satisfied: oauthlib>=3.0.0 in /usr/local/lib/python3.8/dist-packages (from requests-oauthlib>=0.7.0->google-auth-oauthlib<0.5,>=0.4.1->tensorboard<2.12,>=2.11->tensorflow-gpu) (3.2.2)\n",
            "Installing collected packages: flatbuffers, tensorflow-estimator, keras, tensorboard, tensorflow-gpu\n",
            "  Attempting uninstall: flatbuffers\n",
            "    Found existing installation: flatbuffers 1.12\n",
            "    Uninstalling flatbuffers-1.12:\n",
            "      Successfully uninstalled flatbuffers-1.12\n",
            "  Attempting uninstall: tensorflow-estimator\n",
            "    Found existing installation: tensorflow-estimator 2.9.0\n",
            "    Uninstalling tensorflow-estimator-2.9.0:\n",
            "      Successfully uninstalled tensorflow-estimator-2.9.0\n",
            "  Attempting uninstall: keras\n",
            "    Found existing installation: keras 2.9.0\n",
            "    Uninstalling keras-2.9.0:\n",
            "      Successfully uninstalled keras-2.9.0\n",
            "  Attempting uninstall: tensorboard\n",
            "    Found existing installation: tensorboard 2.9.1\n",
            "    Uninstalling tensorboard-2.9.1:\n",
            "      Successfully uninstalled tensorboard-2.9.1\n",
            "\u001b[31mERROR: pip's dependency resolver does not currently take into account all the packages that are installed. This behaviour is the source of the following dependency conflicts.\n",
            "tensorflow 2.9.2 requires flatbuffers<2,>=1.12, but you have flatbuffers 23.1.4 which is incompatible.\n",
            "tensorflow 2.9.2 requires keras<2.10.0,>=2.9.0rc0, but you have keras 2.11.0 which is incompatible.\n",
            "tensorflow 2.9.2 requires tensorboard<2.10,>=2.9, but you have tensorboard 2.11.2 which is incompatible.\n",
            "tensorflow 2.9.2 requires tensorflow-estimator<2.10.0,>=2.9.0rc0, but you have tensorflow-estimator 2.11.0 which is incompatible.\u001b[0m\u001b[31m\n",
            "\u001b[0mSuccessfully installed flatbuffers-23.1.4 keras-2.11.0 tensorboard-2.11.2 tensorflow-estimator-2.11.0 tensorflow-gpu-2.11.0\n"
          ]
        }
      ],
      "source": [
        "!pip install tensorflow-gpu"
      ]
    },
    {
      "cell_type": "code",
      "source": [
        "import tensorflow as tf\n",
        "print(tf.__version__)"
      ],
      "metadata": {
        "colab": {
          "base_uri": "https://localhost:8080/"
        },
        "id": "yZ5hceiMAX7n",
        "outputId": "80e076f5-057f-421c-a20d-995e6450a40c"
      },
      "execution_count": 3,
      "outputs": [
        {
          "output_type": "stream",
          "name": "stdout",
          "text": [
            "2.11.0\n"
          ]
        }
      ]
    },
    {
      "cell_type": "code",
      "execution_count": 4,
      "metadata": {
        "id": "k4nKifUl0XGC"
      },
      "outputs": [],
      "source": [
        "##tensorflow >2.0\n",
        "from tensorflow.keras.preprocessing.text import one_hot"
      ]
    },
    {
      "cell_type": "code",
      "source": [],
      "metadata": {
        "id": "hADTdqZTAUfS"
      },
      "execution_count": null,
      "outputs": []
    },
    {
      "cell_type": "code",
      "execution_count": 5,
      "metadata": {
        "id": "Fu9PuYeu0XGD"
      },
      "outputs": [],
      "source": [
        "### sentences\n",
        "sent=[  'the glass of milk',\n",
        "     'the glass of juice',\n",
        "     'the cup of tea',\n",
        "    'I am a good boy',\n",
        "     'I am a good developer',\n",
        "     'understand the meaning of words',\n",
        "     'your videos are good']"
      ]
    },
    {
      "cell_type": "code",
      "execution_count": 6,
      "metadata": {
        "colab": {
          "base_uri": "https://localhost:8080/"
        },
        "id": "x5d1D3_20XGD",
        "outputId": "45107120-4f95-4b6d-e1df-b97be9959194"
      },
      "outputs": [
        {
          "output_type": "execute_result",
          "data": {
            "text/plain": [
              "['the glass of milk',\n",
              " 'the glass of juice',\n",
              " 'the cup of tea',\n",
              " 'I am a good boy',\n",
              " 'I am a good developer',\n",
              " 'understand the meaning of words',\n",
              " 'your videos are good']"
            ]
          },
          "metadata": {},
          "execution_count": 6
        }
      ],
      "source": [
        "sent"
      ]
    },
    {
      "cell_type": "code",
      "execution_count": 7,
      "metadata": {
        "id": "tjnXIn3B0XGE"
      },
      "outputs": [],
      "source": [
        "### Vocabulary size\n",
        "voc_size=500"
      ]
    },
    {
      "cell_type": "markdown",
      "metadata": {
        "id": "-vQOdeKk0XGE"
      },
      "source": [
        "#### One Hot Representation"
      ]
    },
    {
      "cell_type": "code",
      "execution_count": 10,
      "metadata": {
        "colab": {
          "base_uri": "https://localhost:8080/"
        },
        "id": "gojfZpAW0XGE",
        "outputId": "91773185-a614-4d98-92f0-97205463d96f"
      },
      "outputs": [
        {
          "output_type": "stream",
          "name": "stdout",
          "text": [
            "[[70, 393, 462, 120], [70, 393, 462, 92], [70, 217, 462, 194], [16, 272, 417, 383, 470], [16, 272, 417, 383, 169], [174, 70, 113, 462, 312], [228, 211, 300, 383]]\n"
          ]
        }
      ],
      "source": [
        "onehot_repr=[one_hot(words,voc_size)for words in sent] \n",
        "print(onehot_repr)"
      ]
    },
    {
      "cell_type": "markdown",
      "metadata": {
        "id": "eYG267x40XGF"
      },
      "source": [
        "### Word Embedding Represntation"
      ]
    },
    {
      "cell_type": "code",
      "execution_count": 11,
      "metadata": {
        "id": "wpqPm0tb0XGF"
      },
      "outputs": [],
      "source": [
        "from tensorflow.keras.layers import Embedding\n",
        "from tensorflow.keras.preprocessing.sequence import pad_sequences\n",
        "from tensorflow.keras.models import Sequential"
      ]
    },
    {
      "cell_type": "code",
      "execution_count": 12,
      "metadata": {
        "id": "Rov3GTM00XGG"
      },
      "outputs": [],
      "source": [
        "import numpy as np"
      ]
    },
    {
      "cell_type": "code",
      "execution_count": 13,
      "metadata": {
        "colab": {
          "base_uri": "https://localhost:8080/"
        },
        "id": "8fQLPw6p0XGG",
        "outputId": "02042b8f-3950-4b64-c21d-6a01e2af6f78"
      },
      "outputs": [
        {
          "output_type": "stream",
          "name": "stdout",
          "text": [
            "[[  0   0   0   0  70 393 462 120]\n",
            " [  0   0   0   0  70 393 462  92]\n",
            " [  0   0   0   0  70 217 462 194]\n",
            " [  0   0   0  16 272 417 383 470]\n",
            " [  0   0   0  16 272 417 383 169]\n",
            " [  0   0   0 174  70 113 462 312]\n",
            " [  0   0   0   0 228 211 300 383]]\n"
          ]
        }
      ],
      "source": [
        "## pre padding\n",
        "sent_length=8\n",
        "embedded_docs=pad_sequences(onehot_repr,padding='pre',maxlen=sent_length)\n",
        "print(embedded_docs)"
      ]
    },
    {
      "cell_type": "code",
      "execution_count": 14,
      "metadata": {
        "id": "yjQqBYac0XGG"
      },
      "outputs": [],
      "source": [
        "## 10 feature dimesnions\n",
        "dim=10\n"
      ]
    },
    {
      "cell_type": "code",
      "execution_count": 15,
      "metadata": {
        "id": "ozC-TXrt0XGG"
      },
      "outputs": [],
      "source": [
        "model=Sequential()\n",
        "model.add(Embedding(voc_size,10,input_length=sent_length))\n",
        "model.compile('adam','mse')"
      ]
    },
    {
      "cell_type": "code",
      "execution_count": 16,
      "metadata": {
        "colab": {
          "base_uri": "https://localhost:8080/"
        },
        "id": "tMNvq-Ji0XGH",
        "outputId": "c3d27e1f-0b62-45ab-efdc-1dcfe83e1d7d"
      },
      "outputs": [
        {
          "output_type": "stream",
          "name": "stdout",
          "text": [
            "Model: \"sequential\"\n",
            "_________________________________________________________________\n",
            " Layer (type)                Output Shape              Param #   \n",
            "=================================================================\n",
            " embedding (Embedding)       (None, 8, 10)             5000      \n",
            "                                                                 \n",
            "=================================================================\n",
            "Total params: 5,000\n",
            "Trainable params: 5,000\n",
            "Non-trainable params: 0\n",
            "_________________________________________________________________\n"
          ]
        }
      ],
      "source": [
        "model.summary()"
      ]
    },
    {
      "cell_type": "code",
      "source": [
        "##'the glass of milk',\n",
        "embedded_docs[0]"
      ],
      "metadata": {
        "colab": {
          "base_uri": "https://localhost:8080/"
        },
        "id": "FC4Ess_FEcb3",
        "outputId": "4cab2b93-488b-413f-b717-e577d1e558f9"
      },
      "execution_count": 17,
      "outputs": [
        {
          "output_type": "execute_result",
          "data": {
            "text/plain": [
              "array([  0,   0,   0,   0,  70, 393, 462, 120], dtype=int32)"
            ]
          },
          "metadata": {},
          "execution_count": 17
        }
      ]
    },
    {
      "cell_type": "code",
      "source": [
        "model.predict(embedded_docs[0])"
      ],
      "metadata": {
        "colab": {
          "base_uri": "https://localhost:8080/"
        },
        "id": "bRqEvMBYEZUS",
        "outputId": "4ecc2062-d9a6-41d7-bf35-f91120b8e61a"
      },
      "execution_count": 18,
      "outputs": [
        {
          "output_type": "stream",
          "name": "stderr",
          "text": [
            "WARNING:tensorflow:Model was constructed with shape (None, 8) for input KerasTensor(type_spec=TensorSpec(shape=(None, 8), dtype=tf.float32, name='embedding_input'), name='embedding_input', description=\"created by layer 'embedding_input'\"), but it was called on an input with incompatible shape (None,).\n"
          ]
        },
        {
          "output_type": "stream",
          "name": "stdout",
          "text": [
            "1/1 [==============================] - 0s 73ms/step\n"
          ]
        },
        {
          "output_type": "execute_result",
          "data": {
            "text/plain": [
              "array([[-0.00045891,  0.03191246,  0.01656177,  0.00143459,  0.04830951,\n",
              "        -0.03945675, -0.00968158, -0.04749212,  0.03918058, -0.04794078],\n",
              "       [-0.00045891,  0.03191246,  0.01656177,  0.00143459,  0.04830951,\n",
              "        -0.03945675, -0.00968158, -0.04749212,  0.03918058, -0.04794078],\n",
              "       [-0.00045891,  0.03191246,  0.01656177,  0.00143459,  0.04830951,\n",
              "        -0.03945675, -0.00968158, -0.04749212,  0.03918058, -0.04794078],\n",
              "       [-0.00045891,  0.03191246,  0.01656177,  0.00143459,  0.04830951,\n",
              "        -0.03945675, -0.00968158, -0.04749212,  0.03918058, -0.04794078],\n",
              "       [-0.01299606, -0.00713167,  0.0247088 , -0.04191135,  0.01323166,\n",
              "         0.02434007, -0.02552849,  0.0326021 , -0.0160827 , -0.02481626],\n",
              "       [ 0.04474229,  0.01753337,  0.01231567,  0.04562522, -0.03767314,\n",
              "        -0.04059871,  0.04438558,  0.00059447,  0.0029129 ,  0.03363222],\n",
              "       [ 0.04798   ,  0.03421644, -0.02202202, -0.0400816 , -0.01732289,\n",
              "        -0.0011212 ,  0.00925682, -0.01679074,  0.01742021, -0.00021775],\n",
              "       [-0.03376792,  0.0006673 ,  0.02475241,  0.04836084,  0.00609164,\n",
              "         0.00615267, -0.00526135, -0.02846617, -0.04013776, -0.04121736]],\n",
              "      dtype=float32)"
            ]
          },
          "metadata": {},
          "execution_count": 18
        }
      ]
    },
    {
      "cell_type": "code",
      "execution_count": 19,
      "metadata": {
        "colab": {
          "base_uri": "https://localhost:8080/"
        },
        "id": "kzKP69gx0XGH",
        "outputId": "8eead5f2-d536-4e53-eb73-5fafd533ea09"
      },
      "outputs": [
        {
          "output_type": "stream",
          "name": "stdout",
          "text": [
            "1/1 [==============================] - 0s 33ms/step\n",
            "[[[-4.58907336e-04  3.19124572e-02  1.65617727e-02  1.43458694e-03\n",
            "    4.83095087e-02 -3.94567475e-02 -9.68158245e-03 -4.74921241e-02\n",
            "    3.91805805e-02 -4.79407795e-02]\n",
            "  [-4.58907336e-04  3.19124572e-02  1.65617727e-02  1.43458694e-03\n",
            "    4.83095087e-02 -3.94567475e-02 -9.68158245e-03 -4.74921241e-02\n",
            "    3.91805805e-02 -4.79407795e-02]\n",
            "  [-4.58907336e-04  3.19124572e-02  1.65617727e-02  1.43458694e-03\n",
            "    4.83095087e-02 -3.94567475e-02 -9.68158245e-03 -4.74921241e-02\n",
            "    3.91805805e-02 -4.79407795e-02]\n",
            "  [-4.58907336e-04  3.19124572e-02  1.65617727e-02  1.43458694e-03\n",
            "    4.83095087e-02 -3.94567475e-02 -9.68158245e-03 -4.74921241e-02\n",
            "    3.91805805e-02 -4.79407795e-02]\n",
            "  [-1.29960552e-02 -7.13167340e-03  2.47087963e-02 -4.19113524e-02\n",
            "    1.32316612e-02  2.43400671e-02 -2.55284905e-02  3.26020978e-02\n",
            "   -1.60827041e-02 -2.48162635e-02]\n",
            "  [ 4.47422899e-02  1.75333731e-02  1.23156682e-02  4.56252210e-02\n",
            "   -3.76731381e-02 -4.05987129e-02  4.43855785e-02  5.94474375e-04\n",
            "    2.91290134e-03  3.36322226e-02]\n",
            "  [ 4.79799993e-02  3.42164375e-02 -2.20220219e-02 -4.00815979e-02\n",
            "   -1.73228867e-02 -1.12120062e-03  9.25681740e-03 -1.67907365e-02\n",
            "    1.74202062e-02 -2.17746943e-04]\n",
            "  [-3.37679163e-02  6.67296350e-04  2.47524120e-02  4.83608358e-02\n",
            "    6.09164312e-03  6.15266711e-03 -5.26135042e-03 -2.84661651e-02\n",
            "   -4.01377566e-02 -4.12173644e-02]]\n",
            "\n",
            " [[-4.58907336e-04  3.19124572e-02  1.65617727e-02  1.43458694e-03\n",
            "    4.83095087e-02 -3.94567475e-02 -9.68158245e-03 -4.74921241e-02\n",
            "    3.91805805e-02 -4.79407795e-02]\n",
            "  [-4.58907336e-04  3.19124572e-02  1.65617727e-02  1.43458694e-03\n",
            "    4.83095087e-02 -3.94567475e-02 -9.68158245e-03 -4.74921241e-02\n",
            "    3.91805805e-02 -4.79407795e-02]\n",
            "  [-4.58907336e-04  3.19124572e-02  1.65617727e-02  1.43458694e-03\n",
            "    4.83095087e-02 -3.94567475e-02 -9.68158245e-03 -4.74921241e-02\n",
            "    3.91805805e-02 -4.79407795e-02]\n",
            "  [-4.58907336e-04  3.19124572e-02  1.65617727e-02  1.43458694e-03\n",
            "    4.83095087e-02 -3.94567475e-02 -9.68158245e-03 -4.74921241e-02\n",
            "    3.91805805e-02 -4.79407795e-02]\n",
            "  [-1.29960552e-02 -7.13167340e-03  2.47087963e-02 -4.19113524e-02\n",
            "    1.32316612e-02  2.43400671e-02 -2.55284905e-02  3.26020978e-02\n",
            "   -1.60827041e-02 -2.48162635e-02]\n",
            "  [ 4.47422899e-02  1.75333731e-02  1.23156682e-02  4.56252210e-02\n",
            "   -3.76731381e-02 -4.05987129e-02  4.43855785e-02  5.94474375e-04\n",
            "    2.91290134e-03  3.36322226e-02]\n",
            "  [ 4.79799993e-02  3.42164375e-02 -2.20220219e-02 -4.00815979e-02\n",
            "   -1.73228867e-02 -1.12120062e-03  9.25681740e-03 -1.67907365e-02\n",
            "    1.74202062e-02 -2.17746943e-04]\n",
            "  [ 1.19173527e-03 -4.56703790e-02  1.93008073e-02  3.02379206e-03\n",
            "    3.17102708e-02 -1.09376088e-02 -1.80006027e-04  2.65298598e-02\n",
            "    6.87874854e-04  4.14843224e-02]]\n",
            "\n",
            " [[-4.58907336e-04  3.19124572e-02  1.65617727e-02  1.43458694e-03\n",
            "    4.83095087e-02 -3.94567475e-02 -9.68158245e-03 -4.74921241e-02\n",
            "    3.91805805e-02 -4.79407795e-02]\n",
            "  [-4.58907336e-04  3.19124572e-02  1.65617727e-02  1.43458694e-03\n",
            "    4.83095087e-02 -3.94567475e-02 -9.68158245e-03 -4.74921241e-02\n",
            "    3.91805805e-02 -4.79407795e-02]\n",
            "  [-4.58907336e-04  3.19124572e-02  1.65617727e-02  1.43458694e-03\n",
            "    4.83095087e-02 -3.94567475e-02 -9.68158245e-03 -4.74921241e-02\n",
            "    3.91805805e-02 -4.79407795e-02]\n",
            "  [-4.58907336e-04  3.19124572e-02  1.65617727e-02  1.43458694e-03\n",
            "    4.83095087e-02 -3.94567475e-02 -9.68158245e-03 -4.74921241e-02\n",
            "    3.91805805e-02 -4.79407795e-02]\n",
            "  [-1.29960552e-02 -7.13167340e-03  2.47087963e-02 -4.19113524e-02\n",
            "    1.32316612e-02  2.43400671e-02 -2.55284905e-02  3.26020978e-02\n",
            "   -1.60827041e-02 -2.48162635e-02]\n",
            "  [-2.47943532e-02  2.18208879e-03  2.22442485e-02  3.39851640e-02\n",
            "   -4.14991491e-02  8.64008814e-03  4.35887687e-02  4.61376794e-02\n",
            "   -4.66001891e-02  4.87693660e-02]\n",
            "  [ 4.79799993e-02  3.42164375e-02 -2.20220219e-02 -4.00815979e-02\n",
            "   -1.73228867e-02 -1.12120062e-03  9.25681740e-03 -1.67907365e-02\n",
            "    1.74202062e-02 -2.17746943e-04]\n",
            "  [ 1.51025988e-02 -1.70915723e-02 -4.21386249e-02  9.60071012e-03\n",
            "    4.07548882e-02  3.15980054e-02 -1.67935975e-02  2.92606466e-02\n",
            "   -5.41280955e-04  4.43826579e-02]]\n",
            "\n",
            " [[-4.58907336e-04  3.19124572e-02  1.65617727e-02  1.43458694e-03\n",
            "    4.83095087e-02 -3.94567475e-02 -9.68158245e-03 -4.74921241e-02\n",
            "    3.91805805e-02 -4.79407795e-02]\n",
            "  [-4.58907336e-04  3.19124572e-02  1.65617727e-02  1.43458694e-03\n",
            "    4.83095087e-02 -3.94567475e-02 -9.68158245e-03 -4.74921241e-02\n",
            "    3.91805805e-02 -4.79407795e-02]\n",
            "  [-4.58907336e-04  3.19124572e-02  1.65617727e-02  1.43458694e-03\n",
            "    4.83095087e-02 -3.94567475e-02 -9.68158245e-03 -4.74921241e-02\n",
            "    3.91805805e-02 -4.79407795e-02]\n",
            "  [-3.43919173e-02  3.74861620e-02 -1.61477327e-02 -5.40458038e-03\n",
            "   -2.58784648e-02  2.48368122e-02  4.05874141e-02 -3.23654301e-02\n",
            "    1.61042325e-02 -4.31736708e-02]\n",
            "  [ 3.45847756e-03  9.43429396e-03 -4.21195738e-02 -4.76575755e-02\n",
            "   -1.83820724e-04 -4.77735884e-02  2.77321599e-02  2.87178792e-02\n",
            "    2.16278918e-02 -4.01618965e-02]\n",
            "  [ 1.64797045e-02 -2.98539549e-03 -4.40857559e-03  1.11143366e-02\n",
            "   -6.29413128e-03 -6.93579763e-03  3.99550535e-02 -8.11562687e-03\n",
            "   -1.05717890e-02  4.26467769e-02]\n",
            "  [ 1.29107125e-02  9.75504518e-05 -2.86765452e-02 -4.85941879e-02\n",
            "   -1.11395344e-02 -2.63495333e-02  4.86338399e-02  1.35920532e-02\n",
            "    2.39946693e-03  1.94902532e-02]\n",
            "  [-6.93494081e-03  1.97988041e-02  3.85941528e-02 -1.24496222e-03\n",
            "   -4.32104133e-02  2.82315649e-02  3.72865312e-02 -1.92598831e-02\n",
            "   -4.61880229e-02  1.14009269e-02]]\n",
            "\n",
            " [[-4.58907336e-04  3.19124572e-02  1.65617727e-02  1.43458694e-03\n",
            "    4.83095087e-02 -3.94567475e-02 -9.68158245e-03 -4.74921241e-02\n",
            "    3.91805805e-02 -4.79407795e-02]\n",
            "  [-4.58907336e-04  3.19124572e-02  1.65617727e-02  1.43458694e-03\n",
            "    4.83095087e-02 -3.94567475e-02 -9.68158245e-03 -4.74921241e-02\n",
            "    3.91805805e-02 -4.79407795e-02]\n",
            "  [-4.58907336e-04  3.19124572e-02  1.65617727e-02  1.43458694e-03\n",
            "    4.83095087e-02 -3.94567475e-02 -9.68158245e-03 -4.74921241e-02\n",
            "    3.91805805e-02 -4.79407795e-02]\n",
            "  [-3.43919173e-02  3.74861620e-02 -1.61477327e-02 -5.40458038e-03\n",
            "   -2.58784648e-02  2.48368122e-02  4.05874141e-02 -3.23654301e-02\n",
            "    1.61042325e-02 -4.31736708e-02]\n",
            "  [ 3.45847756e-03  9.43429396e-03 -4.21195738e-02 -4.76575755e-02\n",
            "   -1.83820724e-04 -4.77735884e-02  2.77321599e-02  2.87178792e-02\n",
            "    2.16278918e-02 -4.01618965e-02]\n",
            "  [ 1.64797045e-02 -2.98539549e-03 -4.40857559e-03  1.11143366e-02\n",
            "   -6.29413128e-03 -6.93579763e-03  3.99550535e-02 -8.11562687e-03\n",
            "   -1.05717890e-02  4.26467769e-02]\n",
            "  [ 1.29107125e-02  9.75504518e-05 -2.86765452e-02 -4.85941879e-02\n",
            "   -1.11395344e-02 -2.63495333e-02  4.86338399e-02  1.35920532e-02\n",
            "    2.39946693e-03  1.94902532e-02]\n",
            "  [ 4.31342013e-02 -2.46460363e-03 -7.32051209e-03  3.17924879e-02\n",
            "   -7.60317966e-03 -4.46192026e-02 -3.11831720e-02 -3.31054814e-02\n",
            "   -3.38287279e-03  4.52102907e-02]]\n",
            "\n",
            " [[-4.58907336e-04  3.19124572e-02  1.65617727e-02  1.43458694e-03\n",
            "    4.83095087e-02 -3.94567475e-02 -9.68158245e-03 -4.74921241e-02\n",
            "    3.91805805e-02 -4.79407795e-02]\n",
            "  [-4.58907336e-04  3.19124572e-02  1.65617727e-02  1.43458694e-03\n",
            "    4.83095087e-02 -3.94567475e-02 -9.68158245e-03 -4.74921241e-02\n",
            "    3.91805805e-02 -4.79407795e-02]\n",
            "  [-4.58907336e-04  3.19124572e-02  1.65617727e-02  1.43458694e-03\n",
            "    4.83095087e-02 -3.94567475e-02 -9.68158245e-03 -4.74921241e-02\n",
            "    3.91805805e-02 -4.79407795e-02]\n",
            "  [-4.18441892e-02 -1.12562068e-02 -3.73579562e-04 -5.83254173e-03\n",
            "    2.53848769e-02  2.00506113e-02 -3.52759734e-02  1.87860392e-02\n",
            "   -2.10965406e-02 -4.65494655e-02]\n",
            "  [-1.29960552e-02 -7.13167340e-03  2.47087963e-02 -4.19113524e-02\n",
            "    1.32316612e-02  2.43400671e-02 -2.55284905e-02  3.26020978e-02\n",
            "   -1.60827041e-02 -2.48162635e-02]\n",
            "  [ 2.07065232e-02 -1.99907422e-02 -1.69740804e-02 -2.05721017e-02\n",
            "    3.14081572e-02  3.98817100e-02 -3.79019380e-02 -1.66901834e-02\n",
            "    2.47637890e-02 -1.91390514e-03]\n",
            "  [ 4.79799993e-02  3.42164375e-02 -2.20220219e-02 -4.00815979e-02\n",
            "   -1.73228867e-02 -1.12120062e-03  9.25681740e-03 -1.67907365e-02\n",
            "    1.74202062e-02 -2.17746943e-04]\n",
            "  [ 2.94345953e-02  1.77433528e-02  4.99140099e-03  2.24698074e-02\n",
            "   -4.85768430e-02  4.89589013e-02 -1.84407607e-02  3.81364711e-02\n",
            "   -8.65471363e-03  1.92646272e-02]]\n",
            "\n",
            " [[-4.58907336e-04  3.19124572e-02  1.65617727e-02  1.43458694e-03\n",
            "    4.83095087e-02 -3.94567475e-02 -9.68158245e-03 -4.74921241e-02\n",
            "    3.91805805e-02 -4.79407795e-02]\n",
            "  [-4.58907336e-04  3.19124572e-02  1.65617727e-02  1.43458694e-03\n",
            "    4.83095087e-02 -3.94567475e-02 -9.68158245e-03 -4.74921241e-02\n",
            "    3.91805805e-02 -4.79407795e-02]\n",
            "  [-4.58907336e-04  3.19124572e-02  1.65617727e-02  1.43458694e-03\n",
            "    4.83095087e-02 -3.94567475e-02 -9.68158245e-03 -4.74921241e-02\n",
            "    3.91805805e-02 -4.79407795e-02]\n",
            "  [-4.58907336e-04  3.19124572e-02  1.65617727e-02  1.43458694e-03\n",
            "    4.83095087e-02 -3.94567475e-02 -9.68158245e-03 -4.74921241e-02\n",
            "    3.91805805e-02 -4.79407795e-02]\n",
            "  [ 3.73986624e-02 -1.38214827e-02 -1.15878806e-02  2.06992738e-02\n",
            "   -4.71359976e-02 -3.37283239e-02 -6.12752512e-03  3.28002907e-02\n",
            "   -2.21759919e-02 -3.05210706e-02]\n",
            "  [ 1.96323656e-02  1.77192800e-02  3.59798335e-02  1.67787075e-04\n",
            "   -1.31540522e-02  2.96519510e-02 -2.95811892e-02  2.90772580e-02\n",
            "   -4.13177721e-02 -4.50899005e-02]\n",
            "  [-3.77899632e-02 -6.60192221e-04  6.45718724e-03  2.88784765e-02\n",
            "    3.09038274e-02 -3.86954434e-02  3.43421437e-02 -4.04551625e-02\n",
            "   -3.95552032e-02  1.83951892e-02]\n",
            "  [ 1.29107125e-02  9.75504518e-05 -2.86765452e-02 -4.85941879e-02\n",
            "   -1.11395344e-02 -2.63495333e-02  4.86338399e-02  1.35920532e-02\n",
            "    2.39946693e-03  1.94902532e-02]]]\n"
          ]
        }
      ],
      "source": [
        "print(model.predict(embedded_docs))"
      ]
    },
    {
      "cell_type": "code",
      "execution_count": 20,
      "metadata": {
        "id": "JuUxfk7d0XGH",
        "outputId": "a2b46692-515e-4b47-bd5a-a5b40e42e03c",
        "colab": {
          "base_uri": "https://localhost:8080/"
        }
      },
      "outputs": [
        {
          "output_type": "execute_result",
          "data": {
            "text/plain": [
              "array([  0,   0,   0,   0,  70, 393, 462, 120], dtype=int32)"
            ]
          },
          "metadata": {},
          "execution_count": 20
        }
      ],
      "source": [
        "embedded_docs[0]"
      ]
    },
    {
      "cell_type": "code",
      "execution_count": 21,
      "metadata": {
        "id": "6JJ_zD0u0XGH",
        "outputId": "89cedfb7-ed7a-4b31-cf3f-d6e183bfdf39",
        "colab": {
          "base_uri": "https://localhost:8080/"
        }
      },
      "outputs": [
        {
          "output_type": "stream",
          "name": "stdout",
          "text": [
            "1/1 [==============================] - 0s 16ms/step\n",
            "[[-0.00045891  0.03191246  0.01656177  0.00143459  0.04830951 -0.03945675\n",
            "  -0.00968158 -0.04749212  0.03918058 -0.04794078]\n",
            " [-0.00045891  0.03191246  0.01656177  0.00143459  0.04830951 -0.03945675\n",
            "  -0.00968158 -0.04749212  0.03918058 -0.04794078]\n",
            " [-0.00045891  0.03191246  0.01656177  0.00143459  0.04830951 -0.03945675\n",
            "  -0.00968158 -0.04749212  0.03918058 -0.04794078]\n",
            " [-0.00045891  0.03191246  0.01656177  0.00143459  0.04830951 -0.03945675\n",
            "  -0.00968158 -0.04749212  0.03918058 -0.04794078]\n",
            " [-0.01299606 -0.00713167  0.0247088  -0.04191135  0.01323166  0.02434007\n",
            "  -0.02552849  0.0326021  -0.0160827  -0.02481626]\n",
            " [ 0.04474229  0.01753337  0.01231567  0.04562522 -0.03767314 -0.04059871\n",
            "   0.04438558  0.00059447  0.0029129   0.03363222]\n",
            " [ 0.04798     0.03421644 -0.02202202 -0.0400816  -0.01732289 -0.0011212\n",
            "   0.00925682 -0.01679074  0.01742021 -0.00021775]\n",
            " [-0.03376792  0.0006673   0.02475241  0.04836084  0.00609164  0.00615267\n",
            "  -0.00526135 -0.02846617 -0.04013776 -0.04121736]]\n"
          ]
        }
      ],
      "source": [
        "print(model.predict(embedded_docs)[0])"
      ]
    },
    {
      "cell_type": "code",
      "execution_count": 22,
      "metadata": {
        "id": "8OMu3iAz0XGH"
      },
      "outputs": [],
      "source": [
        "### Assignment\n",
        "\n",
        "sent=[\"The world is a better place\",\n",
        "      \"Marvel series is my favourite movie\",\n",
        "      \"I like DC movies\",\n",
        "      \"the cat is eating the food\",\n",
        "      \"Tom and Jerry is my favourite movie\",\n",
        "      \"Python is my favourite programming language\"\n",
        "      ]"
      ]
    }
  ],
  "metadata": {
    "kernelspec": {
      "display_name": "Python 3",
      "language": "python",
      "name": "python3"
    },
    "language_info": {
      "codemirror_mode": {
        "name": "ipython",
        "version": 3
      },
      "file_extension": ".py",
      "mimetype": "text/x-python",
      "name": "python",
      "nbconvert_exporter": "python",
      "pygments_lexer": "ipython3",
      "version": "3.7.4"
    },
    "colab": {
      "provenance": []
    },
    "accelerator": "GPU",
    "gpuClass": "standard"
  },
  "nbformat": 4,
  "nbformat_minor": 0
}